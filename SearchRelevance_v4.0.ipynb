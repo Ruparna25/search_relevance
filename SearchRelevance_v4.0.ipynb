{
  "cells": [
    {
      "cell_type": "code",
      "execution_count": 131,
      "id": "4787b9fa-a1f3-42d1-adb9-52afbde4c376",
      "metadata": {
        "id": "4787b9fa-a1f3-42d1-adb9-52afbde4c376"
      },
      "outputs": [],
      "source": [
        "import pandas as pd\n",
        "\n",
        "search_df=pd.read_csv('/content/train.csv')"
      ]
    },
    {
      "cell_type": "code",
      "execution_count": 132,
      "id": "7429e4e4-9ebf-4fab-a37e-e4e1ddc0bed2",
      "metadata": {
        "colab": {
          "base_uri": "https://localhost:8080/",
          "height": 206
        },
        "id": "7429e4e4-9ebf-4fab-a37e-e4e1ddc0bed2",
        "outputId": "566952ba-0294-492c-bfbf-af0e288d7236"
      },
      "outputs": [
        {
          "output_type": "execute_result",
          "data": {
            "text/plain": [
              "   id                      query  \\\n",
              "0   1  bridal shower decorations   \n",
              "1   2       led christmas lights   \n",
              "2   4                  projector   \n",
              "3   5                  wine rack   \n",
              "4   7                 light bulb   \n",
              "\n",
              "                                       product_title  \\\n",
              "0        Accent Pillow with Heart Design - Red/Black   \n",
              "1  Set of 10 Battery Operated Multi LED Train Chr...   \n",
              "2         ViewSonic Pro8200 DLP Multimedia Projector   \n",
              "3  Concept Housewares WR-44526 Solid-Wood Ceiling...   \n",
              "4  Wintergreen Lighting Christmas LED Light Bulb ...   \n",
              "\n",
              "                                 product_description  median_relevance  \\\n",
              "0  Red satin accent pillow embroidered with a hea...                 1   \n",
              "1  Set of 10 Battery Operated Train Christmas Lig...                 4   \n",
              "2                                                NaN                 4   \n",
              "3  Like a silent and sturdy tree, the Southern En...                 4   \n",
              "4  WTGR1011\\nFeatures\\nNickel base, 60,000 averag...                 2   \n",
              "\n",
              "   relevance_variance  \n",
              "0               0.000  \n",
              "1               0.000  \n",
              "2               0.471  \n",
              "3               0.000  \n",
              "4               0.471  "
            ],
            "text/html": [
              "\n",
              "  <div id=\"df-32e11b78-5361-4dde-ad97-97190141fede\">\n",
              "    <div class=\"colab-df-container\">\n",
              "      <div>\n",
              "<style scoped>\n",
              "    .dataframe tbody tr th:only-of-type {\n",
              "        vertical-align: middle;\n",
              "    }\n",
              "\n",
              "    .dataframe tbody tr th {\n",
              "        vertical-align: top;\n",
              "    }\n",
              "\n",
              "    .dataframe thead th {\n",
              "        text-align: right;\n",
              "    }\n",
              "</style>\n",
              "<table border=\"1\" class=\"dataframe\">\n",
              "  <thead>\n",
              "    <tr style=\"text-align: right;\">\n",
              "      <th></th>\n",
              "      <th>id</th>\n",
              "      <th>query</th>\n",
              "      <th>product_title</th>\n",
              "      <th>product_description</th>\n",
              "      <th>median_relevance</th>\n",
              "      <th>relevance_variance</th>\n",
              "    </tr>\n",
              "  </thead>\n",
              "  <tbody>\n",
              "    <tr>\n",
              "      <th>0</th>\n",
              "      <td>1</td>\n",
              "      <td>bridal shower decorations</td>\n",
              "      <td>Accent Pillow with Heart Design - Red/Black</td>\n",
              "      <td>Red satin accent pillow embroidered with a hea...</td>\n",
              "      <td>1</td>\n",
              "      <td>0.000</td>\n",
              "    </tr>\n",
              "    <tr>\n",
              "      <th>1</th>\n",
              "      <td>2</td>\n",
              "      <td>led christmas lights</td>\n",
              "      <td>Set of 10 Battery Operated Multi LED Train Chr...</td>\n",
              "      <td>Set of 10 Battery Operated Train Christmas Lig...</td>\n",
              "      <td>4</td>\n",
              "      <td>0.000</td>\n",
              "    </tr>\n",
              "    <tr>\n",
              "      <th>2</th>\n",
              "      <td>4</td>\n",
              "      <td>projector</td>\n",
              "      <td>ViewSonic Pro8200 DLP Multimedia Projector</td>\n",
              "      <td>NaN</td>\n",
              "      <td>4</td>\n",
              "      <td>0.471</td>\n",
              "    </tr>\n",
              "    <tr>\n",
              "      <th>3</th>\n",
              "      <td>5</td>\n",
              "      <td>wine rack</td>\n",
              "      <td>Concept Housewares WR-44526 Solid-Wood Ceiling...</td>\n",
              "      <td>Like a silent and sturdy tree, the Southern En...</td>\n",
              "      <td>4</td>\n",
              "      <td>0.000</td>\n",
              "    </tr>\n",
              "    <tr>\n",
              "      <th>4</th>\n",
              "      <td>7</td>\n",
              "      <td>light bulb</td>\n",
              "      <td>Wintergreen Lighting Christmas LED Light Bulb ...</td>\n",
              "      <td>WTGR1011\\nFeatures\\nNickel base, 60,000 averag...</td>\n",
              "      <td>2</td>\n",
              "      <td>0.471</td>\n",
              "    </tr>\n",
              "  </tbody>\n",
              "</table>\n",
              "</div>\n",
              "      <button class=\"colab-df-convert\" onclick=\"convertToInteractive('df-32e11b78-5361-4dde-ad97-97190141fede')\"\n",
              "              title=\"Convert this dataframe to an interactive table.\"\n",
              "              style=\"display:none;\">\n",
              "        \n",
              "  <svg xmlns=\"http://www.w3.org/2000/svg\" height=\"24px\"viewBox=\"0 0 24 24\"\n",
              "       width=\"24px\">\n",
              "    <path d=\"M0 0h24v24H0V0z\" fill=\"none\"/>\n",
              "    <path d=\"M18.56 5.44l.94 2.06.94-2.06 2.06-.94-2.06-.94-.94-2.06-.94 2.06-2.06.94zm-11 1L8.5 8.5l.94-2.06 2.06-.94-2.06-.94L8.5 2.5l-.94 2.06-2.06.94zm10 10l.94 2.06.94-2.06 2.06-.94-2.06-.94-.94-2.06-.94 2.06-2.06.94z\"/><path d=\"M17.41 7.96l-1.37-1.37c-.4-.4-.92-.59-1.43-.59-.52 0-1.04.2-1.43.59L10.3 9.45l-7.72 7.72c-.78.78-.78 2.05 0 2.83L4 21.41c.39.39.9.59 1.41.59.51 0 1.02-.2 1.41-.59l7.78-7.78 2.81-2.81c.8-.78.8-2.07 0-2.86zM5.41 20L4 18.59l7.72-7.72 1.47 1.35L5.41 20z\"/>\n",
              "  </svg>\n",
              "      </button>\n",
              "      \n",
              "  <style>\n",
              "    .colab-df-container {\n",
              "      display:flex;\n",
              "      flex-wrap:wrap;\n",
              "      gap: 12px;\n",
              "    }\n",
              "\n",
              "    .colab-df-convert {\n",
              "      background-color: #E8F0FE;\n",
              "      border: none;\n",
              "      border-radius: 50%;\n",
              "      cursor: pointer;\n",
              "      display: none;\n",
              "      fill: #1967D2;\n",
              "      height: 32px;\n",
              "      padding: 0 0 0 0;\n",
              "      width: 32px;\n",
              "    }\n",
              "\n",
              "    .colab-df-convert:hover {\n",
              "      background-color: #E2EBFA;\n",
              "      box-shadow: 0px 1px 2px rgba(60, 64, 67, 0.3), 0px 1px 3px 1px rgba(60, 64, 67, 0.15);\n",
              "      fill: #174EA6;\n",
              "    }\n",
              "\n",
              "    [theme=dark] .colab-df-convert {\n",
              "      background-color: #3B4455;\n",
              "      fill: #D2E3FC;\n",
              "    }\n",
              "\n",
              "    [theme=dark] .colab-df-convert:hover {\n",
              "      background-color: #434B5C;\n",
              "      box-shadow: 0px 1px 3px 1px rgba(0, 0, 0, 0.15);\n",
              "      filter: drop-shadow(0px 1px 2px rgba(0, 0, 0, 0.3));\n",
              "      fill: #FFFFFF;\n",
              "    }\n",
              "  </style>\n",
              "\n",
              "      <script>\n",
              "        const buttonEl =\n",
              "          document.querySelector('#df-32e11b78-5361-4dde-ad97-97190141fede button.colab-df-convert');\n",
              "        buttonEl.style.display =\n",
              "          google.colab.kernel.accessAllowed ? 'block' : 'none';\n",
              "\n",
              "        async function convertToInteractive(key) {\n",
              "          const element = document.querySelector('#df-32e11b78-5361-4dde-ad97-97190141fede');\n",
              "          const dataTable =\n",
              "            await google.colab.kernel.invokeFunction('convertToInteractive',\n",
              "                                                     [key], {});\n",
              "          if (!dataTable) return;\n",
              "\n",
              "          const docLinkHtml = 'Like what you see? Visit the ' +\n",
              "            '<a target=\"_blank\" href=https://colab.research.google.com/notebooks/data_table.ipynb>data table notebook</a>'\n",
              "            + ' to learn more about interactive tables.';\n",
              "          element.innerHTML = '';\n",
              "          dataTable['output_type'] = 'display_data';\n",
              "          await google.colab.output.renderOutput(dataTable, element);\n",
              "          const docLink = document.createElement('div');\n",
              "          docLink.innerHTML = docLinkHtml;\n",
              "          element.appendChild(docLink);\n",
              "        }\n",
              "      </script>\n",
              "    </div>\n",
              "  </div>\n",
              "  "
            ]
          },
          "metadata": {},
          "execution_count": 132
        }
      ],
      "source": [
        "search_df.head()"
      ]
    },
    {
      "cell_type": "code",
      "execution_count": 133,
      "id": "eb9fbb35-53f5-4a30-b989-f38ea9c8f25c",
      "metadata": {
        "colab": {
          "base_uri": "https://localhost:8080/"
        },
        "id": "eb9fbb35-53f5-4a30-b989-f38ea9c8f25c",
        "outputId": "733a7f2a-74c9-455c-e033-cb7f0805c732"
      },
      "outputs": [
        {
          "output_type": "stream",
          "name": "stdout",
          "text": [
            "<class 'pandas.core.frame.DataFrame'>\n",
            "RangeIndex: 10158 entries, 0 to 10157\n",
            "Data columns (total 6 columns):\n",
            " #   Column               Non-Null Count  Dtype  \n",
            "---  ------               --------------  -----  \n",
            " 0   id                   10158 non-null  int64  \n",
            " 1   query                10158 non-null  object \n",
            " 2   product_title        10158 non-null  object \n",
            " 3   product_description  7714 non-null   object \n",
            " 4   median_relevance     10158 non-null  int64  \n",
            " 5   relevance_variance   10158 non-null  float64\n",
            "dtypes: float64(1), int64(2), object(3)\n",
            "memory usage: 476.3+ KB\n"
          ]
        }
      ],
      "source": [
        "search_df.info()"
      ]
    },
    {
      "cell_type": "code",
      "execution_count": 135,
      "id": "1ebc0f56-f779-45b2-baed-aedfcbbcc0da",
      "metadata": {
        "id": "1ebc0f56-f779-45b2-baed-aedfcbbcc0da"
      },
      "outputs": [],
      "source": [
        "search_test=pd.read_csv('/content/sample_data/test.csv')"
      ]
    },
    {
      "cell_type": "code",
      "execution_count": 136,
      "id": "40f9f7b5-2633-48f8-b851-8dc898bb12ff",
      "metadata": {
        "colab": {
          "base_uri": "https://localhost:8080/",
          "height": 206
        },
        "id": "40f9f7b5-2633-48f8-b851-8dc898bb12ff",
        "outputId": "961c8227-4629-4002-c20e-6fc59a74de42"
      },
      "outputs": [
        {
          "output_type": "execute_result",
          "data": {
            "text/plain": [
              "   id                           query  \\\n",
              "0   3                electric griddle   \n",
              "1   6           phillips coffee maker   \n",
              "2   9             san francisco 49ers   \n",
              "3  11                  aveeno shampoo   \n",
              "4  12  flea and tick control for dogs   \n",
              "\n",
              "                                       product_title  \\\n",
              "0                    Star-Max 48 in Electric Griddle   \n",
              "1  Philips SENSEO HD7810 WHITE Single Serve Pod C...   \n",
              "2                     2013 San Francisco 49ers Clock   \n",
              "3                AVEENO       10.5FLOZ NRSH SHINE SH   \n",
              "4  Merial Frontline Plus Flea and Tick Control fo...   \n",
              "\n",
              "                                 product_description  \n",
              "0                                                NaN  \n",
              "1                                                NaN  \n",
              "2  A 2013 San Francisco 49ers clock is the ultima...  \n",
              "3  Water, Ammonium Lauryl Sulfate, Dimethicone, S...  \n",
              "4                                                NaN  "
            ],
            "text/html": [
              "\n",
              "  <div id=\"df-e89f3706-6463-4353-bc88-5a27bdbc6884\">\n",
              "    <div class=\"colab-df-container\">\n",
              "      <div>\n",
              "<style scoped>\n",
              "    .dataframe tbody tr th:only-of-type {\n",
              "        vertical-align: middle;\n",
              "    }\n",
              "\n",
              "    .dataframe tbody tr th {\n",
              "        vertical-align: top;\n",
              "    }\n",
              "\n",
              "    .dataframe thead th {\n",
              "        text-align: right;\n",
              "    }\n",
              "</style>\n",
              "<table border=\"1\" class=\"dataframe\">\n",
              "  <thead>\n",
              "    <tr style=\"text-align: right;\">\n",
              "      <th></th>\n",
              "      <th>id</th>\n",
              "      <th>query</th>\n",
              "      <th>product_title</th>\n",
              "      <th>product_description</th>\n",
              "    </tr>\n",
              "  </thead>\n",
              "  <tbody>\n",
              "    <tr>\n",
              "      <th>0</th>\n",
              "      <td>3</td>\n",
              "      <td>electric griddle</td>\n",
              "      <td>Star-Max 48 in Electric Griddle</td>\n",
              "      <td>NaN</td>\n",
              "    </tr>\n",
              "    <tr>\n",
              "      <th>1</th>\n",
              "      <td>6</td>\n",
              "      <td>phillips coffee maker</td>\n",
              "      <td>Philips SENSEO HD7810 WHITE Single Serve Pod C...</td>\n",
              "      <td>NaN</td>\n",
              "    </tr>\n",
              "    <tr>\n",
              "      <th>2</th>\n",
              "      <td>9</td>\n",
              "      <td>san francisco 49ers</td>\n",
              "      <td>2013 San Francisco 49ers Clock</td>\n",
              "      <td>A 2013 San Francisco 49ers clock is the ultima...</td>\n",
              "    </tr>\n",
              "    <tr>\n",
              "      <th>3</th>\n",
              "      <td>11</td>\n",
              "      <td>aveeno shampoo</td>\n",
              "      <td>AVEENO       10.5FLOZ NRSH SHINE SH</td>\n",
              "      <td>Water, Ammonium Lauryl Sulfate, Dimethicone, S...</td>\n",
              "    </tr>\n",
              "    <tr>\n",
              "      <th>4</th>\n",
              "      <td>12</td>\n",
              "      <td>flea and tick control for dogs</td>\n",
              "      <td>Merial Frontline Plus Flea and Tick Control fo...</td>\n",
              "      <td>NaN</td>\n",
              "    </tr>\n",
              "  </tbody>\n",
              "</table>\n",
              "</div>\n",
              "      <button class=\"colab-df-convert\" onclick=\"convertToInteractive('df-e89f3706-6463-4353-bc88-5a27bdbc6884')\"\n",
              "              title=\"Convert this dataframe to an interactive table.\"\n",
              "              style=\"display:none;\">\n",
              "        \n",
              "  <svg xmlns=\"http://www.w3.org/2000/svg\" height=\"24px\"viewBox=\"0 0 24 24\"\n",
              "       width=\"24px\">\n",
              "    <path d=\"M0 0h24v24H0V0z\" fill=\"none\"/>\n",
              "    <path d=\"M18.56 5.44l.94 2.06.94-2.06 2.06-.94-2.06-.94-.94-2.06-.94 2.06-2.06.94zm-11 1L8.5 8.5l.94-2.06 2.06-.94-2.06-.94L8.5 2.5l-.94 2.06-2.06.94zm10 10l.94 2.06.94-2.06 2.06-.94-2.06-.94-.94-2.06-.94 2.06-2.06.94z\"/><path d=\"M17.41 7.96l-1.37-1.37c-.4-.4-.92-.59-1.43-.59-.52 0-1.04.2-1.43.59L10.3 9.45l-7.72 7.72c-.78.78-.78 2.05 0 2.83L4 21.41c.39.39.9.59 1.41.59.51 0 1.02-.2 1.41-.59l7.78-7.78 2.81-2.81c.8-.78.8-2.07 0-2.86zM5.41 20L4 18.59l7.72-7.72 1.47 1.35L5.41 20z\"/>\n",
              "  </svg>\n",
              "      </button>\n",
              "      \n",
              "  <style>\n",
              "    .colab-df-container {\n",
              "      display:flex;\n",
              "      flex-wrap:wrap;\n",
              "      gap: 12px;\n",
              "    }\n",
              "\n",
              "    .colab-df-convert {\n",
              "      background-color: #E8F0FE;\n",
              "      border: none;\n",
              "      border-radius: 50%;\n",
              "      cursor: pointer;\n",
              "      display: none;\n",
              "      fill: #1967D2;\n",
              "      height: 32px;\n",
              "      padding: 0 0 0 0;\n",
              "      width: 32px;\n",
              "    }\n",
              "\n",
              "    .colab-df-convert:hover {\n",
              "      background-color: #E2EBFA;\n",
              "      box-shadow: 0px 1px 2px rgba(60, 64, 67, 0.3), 0px 1px 3px 1px rgba(60, 64, 67, 0.15);\n",
              "      fill: #174EA6;\n",
              "    }\n",
              "\n",
              "    [theme=dark] .colab-df-convert {\n",
              "      background-color: #3B4455;\n",
              "      fill: #D2E3FC;\n",
              "    }\n",
              "\n",
              "    [theme=dark] .colab-df-convert:hover {\n",
              "      background-color: #434B5C;\n",
              "      box-shadow: 0px 1px 3px 1px rgba(0, 0, 0, 0.15);\n",
              "      filter: drop-shadow(0px 1px 2px rgba(0, 0, 0, 0.3));\n",
              "      fill: #FFFFFF;\n",
              "    }\n",
              "  </style>\n",
              "\n",
              "      <script>\n",
              "        const buttonEl =\n",
              "          document.querySelector('#df-e89f3706-6463-4353-bc88-5a27bdbc6884 button.colab-df-convert');\n",
              "        buttonEl.style.display =\n",
              "          google.colab.kernel.accessAllowed ? 'block' : 'none';\n",
              "\n",
              "        async function convertToInteractive(key) {\n",
              "          const element = document.querySelector('#df-e89f3706-6463-4353-bc88-5a27bdbc6884');\n",
              "          const dataTable =\n",
              "            await google.colab.kernel.invokeFunction('convertToInteractive',\n",
              "                                                     [key], {});\n",
              "          if (!dataTable) return;\n",
              "\n",
              "          const docLinkHtml = 'Like what you see? Visit the ' +\n",
              "            '<a target=\"_blank\" href=https://colab.research.google.com/notebooks/data_table.ipynb>data table notebook</a>'\n",
              "            + ' to learn more about interactive tables.';\n",
              "          element.innerHTML = '';\n",
              "          dataTable['output_type'] = 'display_data';\n",
              "          await google.colab.output.renderOutput(dataTable, element);\n",
              "          const docLink = document.createElement('div');\n",
              "          docLink.innerHTML = docLinkHtml;\n",
              "          element.appendChild(docLink);\n",
              "        }\n",
              "      </script>\n",
              "    </div>\n",
              "  </div>\n",
              "  "
            ]
          },
          "metadata": {},
          "execution_count": 136
        }
      ],
      "source": [
        "search_test.head()"
      ]
    },
    {
      "cell_type": "code",
      "execution_count": 137,
      "id": "f7cf9d15-a15d-48f8-b060-28843a204da0",
      "metadata": {
        "colab": {
          "base_uri": "https://localhost:8080/"
        },
        "id": "f7cf9d15-a15d-48f8-b060-28843a204da0",
        "outputId": "d4afd002-57f0-41a0-f4af-3730f29340c3"
      },
      "outputs": [
        {
          "output_type": "stream",
          "name": "stdout",
          "text": [
            "<class 'pandas.core.frame.DataFrame'>\n",
            "RangeIndex: 22513 entries, 0 to 22512\n",
            "Data columns (total 4 columns):\n",
            " #   Column               Non-Null Count  Dtype \n",
            "---  ------               --------------  ----- \n",
            " 0   id                   22513 non-null  int64 \n",
            " 1   query                22513 non-null  object\n",
            " 2   product_title        22513 non-null  object\n",
            " 3   product_description  17086 non-null  object\n",
            "dtypes: int64(1), object(3)\n",
            "memory usage: 703.7+ KB\n"
          ]
        }
      ],
      "source": [
        "search_test.info()"
      ]
    },
    {
      "cell_type": "code",
      "execution_count": 138,
      "id": "22a99361-9f98-472b-883f-dc12fb8a8a0f",
      "metadata": {
        "colab": {
          "base_uri": "https://localhost:8080/"
        },
        "id": "22a99361-9f98-472b-883f-dc12fb8a8a0f",
        "outputId": "a58f3b90-6c53-4211-85d8-88aab9fe6bee"
      },
      "outputs": [
        {
          "output_type": "execute_result",
          "data": {
            "text/plain": [
              "wireless mouse             113\n",
              "rachel ray cookware         91\n",
              "memory foam pillow          90\n",
              "bike lock                   84\n",
              "16 gb memory card           64\n",
              "                          ... \n",
              "longboard pads              13\n",
              "silicone toe separators     12\n",
              "8 ounce mason jars          10\n",
              "polo bear sweater           10\n",
              "dollhouse bathtub            8\n",
              "Name: query, Length: 261, dtype: int64"
            ]
          },
          "metadata": {},
          "execution_count": 138
        }
      ],
      "source": [
        "search_df['query'].value_counts()"
      ]
    },
    {
      "cell_type": "code",
      "source": [
        "train_null=search_df['product_description'].isnull().sum()\n",
        "test_null=search_test['product_description'].isnull().sum()\n",
        "\n",
        "null_plt = {'Train':train_null, 'Test':test_null}\n",
        "ax=plt.bar(null_plt.keys(),null_plt.values())\n",
        "plt.title('Null Distribution')\n",
        "plt.ylabel('Number of Nulls')\n",
        "plt.xlabel('Type of Data')\n",
        "plt.show()"
      ],
      "metadata": {
        "id": "9zMAjduJ0Zaf",
        "outputId": "4eaf0bb1-c566-4a6a-fcf2-8621d23280af",
        "colab": {
          "base_uri": "https://localhost:8080/",
          "height": 295
        }
      },
      "id": "9zMAjduJ0Zaf",
      "execution_count": 324,
      "outputs": [
        {
          "output_type": "display_data",
          "data": {
            "text/plain": [
              "<Figure size 360x288 with 1 Axes>"
            ],
            "image/png": "[encoded data removed]"
          },
          "metadata": {
            "needs_background": "light"
          }
        }
      ]
    },
    {
      "cell_type": "code",
      "execution_count": 139,
      "id": "6fcc06a8-1046-4ece-9161-5c6a909bad2f",
      "metadata": {
        "colab": {
          "base_uri": "https://localhost:8080/",
          "height": 1000
        },
        "id": "6fcc06a8-1046-4ece-9161-5c6a909bad2f",
        "outputId": "ed35095d-9b18-451c-ee98-14a596e533fd"
      },
      "outputs": [
        {
          "output_type": "execute_result",
          "data": {
            "text/plain": [
              "          id      query                                      product_title  \\\n",
              "2          4  projector         ViewSonic Pro8200 DLP Multimedia Projector   \n",
              "44       119  projector  InFocus Projector Lamp for the IN112a, IN114a,...   \n",
              "73       218  projector  LG PH300 Minibeam LED Projector with Embedded ...   \n",
              "124      388  projector                InFocus Carrying Case for Projector   \n",
              "254      818  projector  Home Theater Multimedia LED LCD Projector HD 1...   \n",
              "373     1194  projector          InFocus Projector Lamp for IN3924, IN3926   \n",
              "681     2190  projector                          Portable Pocket Projector   \n",
              "783     2558  projector           Epson ELPLP77 Replacement Projector Lamp   \n",
              "825     2673  projector  Mini Home Cinema Theater 1080P HD Multimedia U...   \n",
              "1098    3532  projector  Underground Toys Doctor Who Dalek Projector Al...   \n",
              "1160    3757  projector  Optoma Ds331 3d Ready Dlp Projector - 1080p - ...   \n",
              "1348    4338  projector  Premium Power Products Lamp for Sharp Front Pr...   \n",
              "1541    4944  projector     InFocus 120 Manual Pull Down Projector Screen\"   \n",
              "1564    5037  projector  New Mini Portable LED Projector Video Theater ...   \n",
              "1702    5492  projector  Super HD 1080P LED PC VGA USB HDMI Home Cinema...   \n",
              "1778    5721  projector  New Pyle PRJCM6 Universal Projector Ceiling Mo...   \n",
              "2173    6956  projector  HD1080P 3000LMS Home Theater LED 3D Projector ...   \n",
              "2336    7445  projector  AAXA P2 Jr. Pico Projector, 55 Lumens, Pocket ...   \n",
              "2433    7773  projector  HD 1080P LED Multimedia Mini Projector Home Th...   \n",
              "2543    8106  projector  ViewSonic PJD5132 Light, Bright, and Portable ...   \n",
              "2646    8454  projector            Inflatable Home Theater System - 12'x7'   \n",
              "2702    8627  projector  Optoma 3D Ready DLP Projector - 720p - HDTV - ...   \n",
              "2820    8987  projector  Deluxe Outdoor Inflatable Movie Screen, 12' Wi...   \n",
              "2874    9181  projector         Acer H5380BD 3D DLP Home Theater Projector   \n",
              "3028    9694  projector         Omni Mount UNIVERSAL PROJECTOR MOUNT UP TO   \n",
              "3170   10138  projector                            AAXA LED Pico Projector   \n",
              "3278   10515  projector                O.E.G. Indoor/Outdoor Screen (115)\"   \n",
              "3400   10931  projector  The Mighty Avengers Movie Theater Storybook & ...   \n",
              "3494   11228  projector  BEST HD Home Theater Multimedia LCD LED Projec...   \n",
              "3634   11674  projector  HD 1080P Home Cinema Theater Multimedia LED LC...   \n",
              "3838   12371  projector         Inflatable Jumbo Tron Movie Screen - 14.5'   \n",
              "3982   12856  projector  3000 Lumens HD Home Cinema Theater Multimedia ...   \n",
              "4359   14086  projector  100 Diagonal 16:9 Electric Projector Projectio...   \n",
              "4498   14508  projector            Optoma HD141X HD Home Theater Projector   \n",
              "4646   15029  projector                         NEC Display Projector Lamp   \n",
              "4782   15465  projector  ViewSonic Pro8300 Full HD 1080p Business Proje...   \n",
              "4790   15503  projector  Apollo - Model 16000 Overhead Projector, 2000 ...   \n",
              "5091   16397  projector                   Crayola Projector Light Designer   \n",
              "5326   17160  projector                 O.E.G. Indoor/Outdoor Screen (92)\"   \n",
              "5519   17765  projector  Mini Portable HD LED Projector Home Cinema The...   \n",
              "5610   18030  projector                            Mustang Projector Mount   \n",
              "5628   18099  projector  FAVI RioHD-LED-3 LCD Projector - 576p - HDTV -...   \n",
              "5703   18337  projector     Epson PowerLite 530 LCD Projector - HDTV - 4:3   \n",
              "6620   21377  projector  Epson PowerLite 3020 3D LCD Projector - 1080p ...   \n",
              "7156   23117  projector   Epson PowerLite 1222 Wireless XGA 3LCD Projector   \n",
              "7649   24694  projector                    Epson VS230 SVGA 3LCD Projector   \n",
              "7844   25280  projector  ViewSonic PJD5134 Light, Bright, and Portable ...   \n",
              "7852   25319  projector                  InFocus IN112A SVGA DLP Projector   \n",
              "7901   25504  projector  2600Lumens 1080P HD LED/LCD Projector HDMI USB...   \n",
              "8136   26249  projector     Inflatable Movie Screen w/ Storage Bag - 12.5'   \n",
              "8287   26685  projector                           Panasonic Projector Lamp   \n",
              "8412   27081  projector  Infocus IN126STa 3300 Lumens 1280 x 800 - WXGA...   \n",
              "9293   29890  projector          Projector (Deluxe Edition) (Bonus Tracks)   \n",
              "9306   29929  projector  VVME HD Portable Mini LED Projector Home Theat...   \n",
              "9474   30468  projector                     Acer C120 DLP Projector - 16:9   \n",
              "9531   30635  projector  NEC NP-L102W 1000 Lumens 1280 x 800 WXGA 10,00...   \n",
              "10055  32337  projector  Mini Portable HD LED LCD Projector Home Cinema...   \n",
              "\n",
              "                                     product_description  median_relevance  \\\n",
              "2                                                    NaN                 4   \n",
              "44     InFocus Projector Lamp for the IN112a, IN114a,...                 2   \n",
              "73     This LG Minibeam Projector features a digital ...                 4   \n",
              "124    Soft carrying case for value projector series ...                 2   \n",
              "254                                                  NaN                 4   \n",
              "373    InFocus Lamps Rule!\\nWe want you to have the b...                 4   \n",
              "681    This portable pocket projector is a modern day...                 4   \n",
              "783    Epson ELPLP77 Replacement Projector Lamp - Pro...                 2   \n",
              "825    eBay item number:191534476036\\n\\n\\n\\tSeller as...                 4   \n",
              "1098   details\\nExterminate sleep and wake up with th...                 1   \n",
              "1160   Digital HDMI sources deliver sharper, clearer ...                 4   \n",
              "1348   This new Premium Power Products front projecto...                 2   \n",
              "1541   Enhance your home cinema with this InFocus 120...                 4   \n",
              "1564                                                 NaN                 4   \n",
              "1702   Powered by eBay Turbo Lister\\n   <br/>The free...                 4   \n",
              "1778   New Pyle PRJCM6 Universal Projector Ceiling Mo...                 1   \n",
              "2173   Powered by eBay Turbo Lister\\n   <br/>The free...                 4   \n",
              "2336   Watch your movies or videos anywhere with the ...                 4   \n",
              "2433   <ul>\\n\\t\\t<li>\\n\\t\\t\\tEnglish \\n\\t\\t\\t\\t</li>\\...                 4   \n",
              "2543   The ViewSonic Projector PJD5132 is a high-perf...                 3   \n",
              "2646   Turn your backyard into a movie theater with t...                 2   \n",
              "2702   Engage your audience with the enhanced interac...                 4   \n",
              "2820   This Deluxe Outdoor Inflatable Movie Screen 12...                 1   \n",
              "2874   Enjoy clear vibrant colors, with impressive cl...                 4   \n",
              "3028   It features a Lift n Lock TM design that offer...                 3   \n",
              "3170   The AAXA LED Pico Projector is ideal for anyon...                 4   \n",
              "3278   \"If you need a larger movie screen, but need a...                 1   \n",
              "3400   Avengers Assemble! With that call, a team of t...                 1   \n",
              "3494                                                 NaN                 4   \n",
              "3634                                                 NaN                 4   \n",
              "3838   Set up your own outdoor theater in minutes wit...                 1   \n",
              "3982   Powered by eBay Turbo Lister<br/>The free list...                 2   \n",
              "4359   Best Choice Products is proud to present our b...                 3   \n",
              "4498   The HD141X Optoma Home Theater Projector is id...                 4   \n",
              "4646                          NEC Display Projector Lamp                 2   \n",
              "4782   ViewSonic Pro8300 Full HD 1080p Business Proje...                 4   \n",
              "4790   2000 lumens of brightness provides crystal cle...                 4   \n",
              "5091   Your junior artist will love this Projector Li...                 4   \n",
              "5326   \"Put that wispy, creased, wind-blown bed sheet...                 1   \n",
              "5519                                                 NaN                 2   \n",
              "5610   Mustang montaje del proyector le permite crear...                 4   \n",
              "5628   The LED-3 revolutionary technology provides 20...                 4   \n",
              "5703   The ultra bright short-throw projector for rel...                 4   \n",
              "6620   Epson PowerLite 3020 3D LCD Projector - 1080p ...                 4   \n",
              "7156   Simple Setup from a Wireless, High-Performance...                 4   \n",
              "7649   Deliver impressive, professional-quality prese...                 4   \n",
              "7844                                                 NaN                 4   \n",
              "7852   Be ready for your next presentation or family ...                 4   \n",
              "7901                                                 NaN                 4   \n",
              "8136   Target toys outdoor toys outdoor entertainment...                 1   \n",
              "8287                                220W UHM - 2000 Hour                 4   \n",
              "8412   Infocus IN126STa 3300 Lumens 1280 x 800 - WXGA...                 4   \n",
              "9293   Although Dark Tranquillity's albums have tende...                 3   \n",
              "9306                                                 NaN                 4   \n",
              "9474   The ultra-lightweight Acer C Series LED pico p...                 4   \n",
              "9531   The 1000-lumen NEC L102W is a lightweight mobi...                 4   \n",
              "10055                                                NaN                 4   \n",
              "\n",
              "       relevance_variance  \n",
              "2                   0.471  \n",
              "44                  0.980  \n",
              "73                  0.000  \n",
              "124                 0.471  \n",
              "254                 0.000  \n",
              "373                 0.943  \n",
              "681                 0.000  \n",
              "783                 0.471  \n",
              "825                 0.000  \n",
              "1098                0.943  \n",
              "1160                0.000  \n",
              "1348                0.471  \n",
              "1541                1.414  \n",
              "1564                0.000  \n",
              "1702                0.471  \n",
              "1778                0.471  \n",
              "2173                0.000  \n",
              "2336                0.000  \n",
              "2433                0.000  \n",
              "2543                1.166  \n",
              "2646                0.471  \n",
              "2702                0.000  \n",
              "2820                0.943  \n",
              "2874                0.000  \n",
              "3028                0.943  \n",
              "3170                0.000  \n",
              "3278                0.943  \n",
              "3400                0.000  \n",
              "3494                0.000  \n",
              "3634                0.000  \n",
              "3838                0.000  \n",
              "3982                0.000  \n",
              "4359                0.471  \n",
              "4498                0.471  \n",
              "4646                0.745  \n",
              "4782                0.000  \n",
              "4790                0.000  \n",
              "5091                0.943  \n",
              "5326                0.000  \n",
              "5519                0.471  \n",
              "5610                0.943  \n",
              "5628                0.471  \n",
              "5703                0.000  \n",
              "6620                0.000  \n",
              "7156                0.000  \n",
              "7649                0.000  \n",
              "7844                0.000  \n",
              "7852                0.000  \n",
              "7901                0.000  \n",
              "8136                0.000  \n",
              "8287                0.943  \n",
              "8412                0.471  \n",
              "9293                0.943  \n",
              "9306                0.000  \n",
              "9474                0.000  \n",
              "9531                0.000  \n",
              "10055               0.471  "
            ],
            "text/html": [
              "\n",
              "  <div id=\"df-92476fda-5b01-4793-9be1-7a4dade6ee58\">\n",
              "    <div class=\"colab-df-container\">\n",
              "      <div>\n",
              "<style scoped>\n",
              "    .dataframe tbody tr th:only-of-type {\n",
              "        vertical-align: middle;\n",
              "    }\n",
              "\n",
              "    .dataframe tbody tr th {\n",
              "        vertical-align: top;\n",
              "    }\n",
              "\n",
              "    .dataframe thead th {\n",
              "        text-align: right;\n",
              "    }\n",
              "</style>\n",
              "<table border=\"1\" class=\"dataframe\">\n",
              "  <thead>\n",
              "    <tr style=\"text-align: right;\">\n",
              "      <th></th>\n",
              "      <th>id</th>\n",
              "      <th>query</th>\n",
              "      <th>product_title</th>\n",
              "      <th>product_description</th>\n",
              "      <th>median_relevance</th>\n",
              "      <th>relevance_variance</th>\n",
              "    </tr>\n",
              "  </thead>\n",
              "  <tbody>\n",
              "    <tr>\n",
              "      <th>2</th>\n",
              "      <td>4</td>\n",
              "      <td>projector</td>\n",
              "      <td>ViewSonic Pro8200 DLP Multimedia Projector</td>\n",
              "      <td>NaN</td>\n",
              "      <td>4</td>\n",
              "      <td>0.471</td>\n",
              "    </tr>\n",
              "    <tr>\n",
              "      <th>44</th>\n",
              "      <td>119</td>\n",
              "      <td>projector</td>\n",
              "      <td>InFocus Projector Lamp for the IN112a, IN114a,...</td>\n",
              "      <td>InFocus Projector Lamp for the IN112a, IN114a,...</td>\n",
              "      <td>2</td>\n",
              "      <td>0.980</td>\n",
              "    </tr>\n",
              "    <tr>\n",
              "      <th>73</th>\n",
              "      <td>218</td>\n",
              "      <td>projector</td>\n",
              "      <td>LG PH300 Minibeam LED Projector with Embedded ...</td>\n",
              "      <td>This LG Minibeam Projector features a digital ...</td>\n",
              "      <td>4</td>\n",
              "      <td>0.000</td>\n",
              "    </tr>\n",
              "    <tr>\n",
              "      <th>124</th>\n",
              "      <td>388</td>\n",
              "      <td>projector</td>\n",
              "      <td>InFocus Carrying Case for Projector</td>\n",
              "      <td>Soft carrying case for value projector series ...</td>\n",
              "      <td>2</td>\n",
              "      <td>0.471</td>\n",
              "    </tr>\n",
              "    <tr>\n",
              "      <th>254</th>\n",
              "      <td>818</td>\n",
              "      <td>projector</td>\n",
              "      <td>Home Theater Multimedia LED LCD Projector HD 1...</td>\n",
              "      <td>NaN</td>\n",
              "      <td>4</td>\n",
              "      <td>0.000</td>\n",
              "    </tr>\n",
              "    <tr>\n",
              "      <th>373</th>\n",
              "      <td>1194</td>\n",
              "      <td>projector</td>\n",
              "      <td>InFocus Projector Lamp for IN3924, IN3926</td>\n",
              "      <td>InFocus Lamps Rule!\\nWe want you to have the b...</td>\n",
              "      <td>4</td>\n",
              "      <td>0.943</td>\n",
              "    </tr>\n",
              "    <tr>\n",
              "      <th>681</th>\n",
              "      <td>2190</td>\n",
              "      <td>projector</td>\n",
              "      <td>Portable Pocket Projector</td>\n",
              "      <td>This portable pocket projector is a modern day...</td>\n",
              "      <td>4</td>\n",
              "      <td>0.000</td>\n",
              "    </tr>\n",
              "    <tr>\n",
              "      <th>783</th>\n",
              "      <td>2558</td>\n",
              "      <td>projector</td>\n",
              "      <td>Epson ELPLP77 Replacement Projector Lamp</td>\n",
              "      <td>Epson ELPLP77 Replacement Projector Lamp - Pro...</td>\n",
              "      <td>2</td>\n",
              "      <td>0.471</td>\n",
              "    </tr>\n",
              "    <tr>\n",
              "      <th>825</th>\n",
              "      <td>2673</td>\n",
              "      <td>projector</td>\n",
              "      <td>Mini Home Cinema Theater 1080P HD Multimedia U...</td>\n",
              "      <td>eBay item number:191534476036\\n\\n\\n\\tSeller as...</td>\n",
              "      <td>4</td>\n",
              "      <td>0.000</td>\n",
              "    </tr>\n",
              "    <tr>\n",
              "      <th>1098</th>\n",
              "      <td>3532</td>\n",
              "      <td>projector</td>\n",
              "      <td>Underground Toys Doctor Who Dalek Projector Al...</td>\n",
              "      <td>details\\nExterminate sleep and wake up with th...</td>\n",
              "      <td>1</td>\n",
              "      <td>0.943</td>\n",
              "    </tr>\n",
              "    <tr>\n",
              "      <th>1160</th>\n",
              "      <td>3757</td>\n",
              "      <td>projector</td>\n",
              "      <td>Optoma Ds331 3d Ready Dlp Projector - 1080p - ...</td>\n",
              "      <td>Digital HDMI sources deliver sharper, clearer ...</td>\n",
              "      <td>4</td>\n",
              "      <td>0.000</td>\n",
              "    </tr>\n",
              "    <tr>\n",
              "      <th>1348</th>\n",
              "      <td>4338</td>\n",
              "      <td>projector</td>\n",
              "      <td>Premium Power Products Lamp for Sharp Front Pr...</td>\n",
              "      <td>This new Premium Power Products front projecto...</td>\n",
              "      <td>2</td>\n",
              "      <td>0.471</td>\n",
              "    </tr>\n",
              "    <tr>\n",
              "      <th>1541</th>\n",
              "      <td>4944</td>\n",
              "      <td>projector</td>\n",
              "      <td>InFocus 120 Manual Pull Down Projector Screen\"</td>\n",
              "      <td>Enhance your home cinema with this InFocus 120...</td>\n",
              "      <td>4</td>\n",
              "      <td>1.414</td>\n",
              "    </tr>\n",
              "    <tr>\n",
              "      <th>1564</th>\n",
              "      <td>5037</td>\n",
              "      <td>projector</td>\n",
              "      <td>New Mini Portable LED Projector Video Theater ...</td>\n",
              "      <td>NaN</td>\n",
              "      <td>4</td>\n",
              "      <td>0.000</td>\n",
              "    </tr>\n",
              "    <tr>\n",
              "      <th>1702</th>\n",
              "      <td>5492</td>\n",
              "      <td>projector</td>\n",
              "      <td>Super HD 1080P LED PC VGA USB HDMI Home Cinema...</td>\n",
              "      <td>Powered by eBay Turbo Lister\\n   &lt;br/&gt;The free...</td>\n",
              "      <td>4</td>\n",
              "      <td>0.471</td>\n",
              "    </tr>\n",
              "    <tr>\n",
              "      <th>1778</th>\n",
              "      <td>5721</td>\n",
              "      <td>projector</td>\n",
              "      <td>New Pyle PRJCM6 Universal Projector Ceiling Mo...</td>\n",
              "      <td>New Pyle PRJCM6 Universal Projector Ceiling Mo...</td>\n",
              "      <td>1</td>\n",
              "      <td>0.471</td>\n",
              "    </tr>\n",
              "    <tr>\n",
              "      <th>2173</th>\n",
              "      <td>6956</td>\n",
              "      <td>projector</td>\n",
              "      <td>HD1080P 3000LMS Home Theater LED 3D Projector ...</td>\n",
              "      <td>Powered by eBay Turbo Lister\\n   &lt;br/&gt;The free...</td>\n",
              "      <td>4</td>\n",
              "      <td>0.000</td>\n",
              "    </tr>\n",
              "    <tr>\n",
              "      <th>2336</th>\n",
              "      <td>7445</td>\n",
              "      <td>projector</td>\n",
              "      <td>AAXA P2 Jr. Pico Projector, 55 Lumens, Pocket ...</td>\n",
              "      <td>Watch your movies or videos anywhere with the ...</td>\n",
              "      <td>4</td>\n",
              "      <td>0.000</td>\n",
              "    </tr>\n",
              "    <tr>\n",
              "      <th>2433</th>\n",
              "      <td>7773</td>\n",
              "      <td>projector</td>\n",
              "      <td>HD 1080P LED Multimedia Mini Projector Home Th...</td>\n",
              "      <td>&lt;ul&gt;\\n\\t\\t&lt;li&gt;\\n\\t\\t\\tEnglish \\n\\t\\t\\t\\t&lt;/li&gt;\\...</td>\n",
              "      <td>4</td>\n",
              "      <td>0.000</td>\n",
              "    </tr>\n",
              "    <tr>\n",
              "      <th>2543</th>\n",
              "      <td>8106</td>\n",
              "      <td>projector</td>\n",
              "      <td>ViewSonic PJD5132 Light, Bright, and Portable ...</td>\n",
              "      <td>The ViewSonic Projector PJD5132 is a high-perf...</td>\n",
              "      <td>3</td>\n",
              "      <td>1.166</td>\n",
              "    </tr>\n",
              "    <tr>\n",
              "      <th>2646</th>\n",
              "      <td>8454</td>\n",
              "      <td>projector</td>\n",
              "      <td>Inflatable Home Theater System - 12'x7'</td>\n",
              "      <td>Turn your backyard into a movie theater with t...</td>\n",
              "      <td>2</td>\n",
              "      <td>0.471</td>\n",
              "    </tr>\n",
              "    <tr>\n",
              "      <th>2702</th>\n",
              "      <td>8627</td>\n",
              "      <td>projector</td>\n",
              "      <td>Optoma 3D Ready DLP Projector - 720p - HDTV - ...</td>\n",
              "      <td>Engage your audience with the enhanced interac...</td>\n",
              "      <td>4</td>\n",
              "      <td>0.000</td>\n",
              "    </tr>\n",
              "    <tr>\n",
              "      <th>2820</th>\n",
              "      <td>8987</td>\n",
              "      <td>projector</td>\n",
              "      <td>Deluxe Outdoor Inflatable Movie Screen, 12' Wi...</td>\n",
              "      <td>This Deluxe Outdoor Inflatable Movie Screen 12...</td>\n",
              "      <td>1</td>\n",
              "      <td>0.943</td>\n",
              "    </tr>\n",
              "    <tr>\n",
              "      <th>2874</th>\n",
              "      <td>9181</td>\n",
              "      <td>projector</td>\n",
              "      <td>Acer H5380BD 3D DLP Home Theater Projector</td>\n",
              "      <td>Enjoy clear vibrant colors, with impressive cl...</td>\n",
              "      <td>4</td>\n",
              "      <td>0.000</td>\n",
              "    </tr>\n",
              "    <tr>\n",
              "      <th>3028</th>\n",
              "      <td>9694</td>\n",
              "      <td>projector</td>\n",
              "      <td>Omni Mount UNIVERSAL PROJECTOR MOUNT UP TO</td>\n",
              "      <td>It features a Lift n Lock TM design that offer...</td>\n",
              "      <td>3</td>\n",
              "      <td>0.943</td>\n",
              "    </tr>\n",
              "    <tr>\n",
              "      <th>3170</th>\n",
              "      <td>10138</td>\n",
              "      <td>projector</td>\n",
              "      <td>AAXA LED Pico Projector</td>\n",
              "      <td>The AAXA LED Pico Projector is ideal for anyon...</td>\n",
              "      <td>4</td>\n",
              "      <td>0.000</td>\n",
              "    </tr>\n",
              "    <tr>\n",
              "      <th>3278</th>\n",
              "      <td>10515</td>\n",
              "      <td>projector</td>\n",
              "      <td>O.E.G. Indoor/Outdoor Screen (115)\"</td>\n",
              "      <td>\"If you need a larger movie screen, but need a...</td>\n",
              "      <td>1</td>\n",
              "      <td>0.943</td>\n",
              "    </tr>\n",
              "    <tr>\n",
              "      <th>3400</th>\n",
              "      <td>10931</td>\n",
              "      <td>projector</td>\n",
              "      <td>The Mighty Avengers Movie Theater Storybook &amp; ...</td>\n",
              "      <td>Avengers Assemble! With that call, a team of t...</td>\n",
              "      <td>1</td>\n",
              "      <td>0.000</td>\n",
              "    </tr>\n",
              "    <tr>\n",
              "      <th>3494</th>\n",
              "      <td>11228</td>\n",
              "      <td>projector</td>\n",
              "      <td>BEST HD Home Theater Multimedia LCD LED Projec...</td>\n",
              "      <td>NaN</td>\n",
              "      <td>4</td>\n",
              "      <td>0.000</td>\n",
              "    </tr>\n",
              "    <tr>\n",
              "      <th>3634</th>\n",
              "      <td>11674</td>\n",
              "      <td>projector</td>\n",
              "      <td>HD 1080P Home Cinema Theater Multimedia LED LC...</td>\n",
              "      <td>NaN</td>\n",
              "      <td>4</td>\n",
              "      <td>0.000</td>\n",
              "    </tr>\n",
              "    <tr>\n",
              "      <th>3838</th>\n",
              "      <td>12371</td>\n",
              "      <td>projector</td>\n",
              "      <td>Inflatable Jumbo Tron Movie Screen - 14.5'</td>\n",
              "      <td>Set up your own outdoor theater in minutes wit...</td>\n",
              "      <td>1</td>\n",
              "      <td>0.000</td>\n",
              "    </tr>\n",
              "    <tr>\n",
              "      <th>3982</th>\n",
              "      <td>12856</td>\n",
              "      <td>projector</td>\n",
              "      <td>3000 Lumens HD Home Cinema Theater Multimedia ...</td>\n",
              "      <td>Powered by eBay Turbo Lister&lt;br/&gt;The free list...</td>\n",
              "      <td>2</td>\n",
              "      <td>0.000</td>\n",
              "    </tr>\n",
              "    <tr>\n",
              "      <th>4359</th>\n",
              "      <td>14086</td>\n",
              "      <td>projector</td>\n",
              "      <td>100 Diagonal 16:9 Electric Projector Projectio...</td>\n",
              "      <td>Best Choice Products is proud to present our b...</td>\n",
              "      <td>3</td>\n",
              "      <td>0.471</td>\n",
              "    </tr>\n",
              "    <tr>\n",
              "      <th>4498</th>\n",
              "      <td>14508</td>\n",
              "      <td>projector</td>\n",
              "      <td>Optoma HD141X HD Home Theater Projector</td>\n",
              "      <td>The HD141X Optoma Home Theater Projector is id...</td>\n",
              "      <td>4</td>\n",
              "      <td>0.471</td>\n",
              "    </tr>\n",
              "    <tr>\n",
              "      <th>4646</th>\n",
              "      <td>15029</td>\n",
              "      <td>projector</td>\n",
              "      <td>NEC Display Projector Lamp</td>\n",
              "      <td>NEC Display Projector Lamp</td>\n",
              "      <td>2</td>\n",
              "      <td>0.745</td>\n",
              "    </tr>\n",
              "    <tr>\n",
              "      <th>4782</th>\n",
              "      <td>15465</td>\n",
              "      <td>projector</td>\n",
              "      <td>ViewSonic Pro8300 Full HD 1080p Business Proje...</td>\n",
              "      <td>ViewSonic Pro8300 Full HD 1080p Business Proje...</td>\n",
              "      <td>4</td>\n",
              "      <td>0.000</td>\n",
              "    </tr>\n",
              "    <tr>\n",
              "      <th>4790</th>\n",
              "      <td>15503</td>\n",
              "      <td>projector</td>\n",
              "      <td>Apollo - Model 16000 Overhead Projector, 2000 ...</td>\n",
              "      <td>2000 lumens of brightness provides crystal cle...</td>\n",
              "      <td>4</td>\n",
              "      <td>0.000</td>\n",
              "    </tr>\n",
              "    <tr>\n",
              "      <th>5091</th>\n",
              "      <td>16397</td>\n",
              "      <td>projector</td>\n",
              "      <td>Crayola Projector Light Designer</td>\n",
              "      <td>Your junior artist will love this Projector Li...</td>\n",
              "      <td>4</td>\n",
              "      <td>0.943</td>\n",
              "    </tr>\n",
              "    <tr>\n",
              "      <th>5326</th>\n",
              "      <td>17160</td>\n",
              "      <td>projector</td>\n",
              "      <td>O.E.G. Indoor/Outdoor Screen (92)\"</td>\n",
              "      <td>\"Put that wispy, creased, wind-blown bed sheet...</td>\n",
              "      <td>1</td>\n",
              "      <td>0.000</td>\n",
              "    </tr>\n",
              "    <tr>\n",
              "      <th>5519</th>\n",
              "      <td>17765</td>\n",
              "      <td>projector</td>\n",
              "      <td>Mini Portable HD LED Projector Home Cinema The...</td>\n",
              "      <td>NaN</td>\n",
              "      <td>2</td>\n",
              "      <td>0.471</td>\n",
              "    </tr>\n",
              "    <tr>\n",
              "      <th>5610</th>\n",
              "      <td>18030</td>\n",
              "      <td>projector</td>\n",
              "      <td>Mustang Projector Mount</td>\n",
              "      <td>Mustang montaje del proyector le permite crear...</td>\n",
              "      <td>4</td>\n",
              "      <td>0.943</td>\n",
              "    </tr>\n",
              "    <tr>\n",
              "      <th>5628</th>\n",
              "      <td>18099</td>\n",
              "      <td>projector</td>\n",
              "      <td>FAVI RioHD-LED-3 LCD Projector - 576p - HDTV -...</td>\n",
              "      <td>The LED-3 revolutionary technology provides 20...</td>\n",
              "      <td>4</td>\n",
              "      <td>0.471</td>\n",
              "    </tr>\n",
              "    <tr>\n",
              "      <th>5703</th>\n",
              "      <td>18337</td>\n",
              "      <td>projector</td>\n",
              "      <td>Epson PowerLite 530 LCD Projector - HDTV - 4:3</td>\n",
              "      <td>The ultra bright short-throw projector for rel...</td>\n",
              "      <td>4</td>\n",
              "      <td>0.000</td>\n",
              "    </tr>\n",
              "    <tr>\n",
              "      <th>6620</th>\n",
              "      <td>21377</td>\n",
              "      <td>projector</td>\n",
              "      <td>Epson PowerLite 3020 3D LCD Projector - 1080p ...</td>\n",
              "      <td>Epson PowerLite 3020 3D LCD Projector - 1080p ...</td>\n",
              "      <td>4</td>\n",
              "      <td>0.000</td>\n",
              "    </tr>\n",
              "    <tr>\n",
              "      <th>7156</th>\n",
              "      <td>23117</td>\n",
              "      <td>projector</td>\n",
              "      <td>Epson PowerLite 1222 Wireless XGA 3LCD Projector</td>\n",
              "      <td>Simple Setup from a Wireless, High-Performance...</td>\n",
              "      <td>4</td>\n",
              "      <td>0.000</td>\n",
              "    </tr>\n",
              "    <tr>\n",
              "      <th>7649</th>\n",
              "      <td>24694</td>\n",
              "      <td>projector</td>\n",
              "      <td>Epson VS230 SVGA 3LCD Projector</td>\n",
              "      <td>Deliver impressive, professional-quality prese...</td>\n",
              "      <td>4</td>\n",
              "      <td>0.000</td>\n",
              "    </tr>\n",
              "    <tr>\n",
              "      <th>7844</th>\n",
              "      <td>25280</td>\n",
              "      <td>projector</td>\n",
              "      <td>ViewSonic PJD5134 Light, Bright, and Portable ...</td>\n",
              "      <td>NaN</td>\n",
              "      <td>4</td>\n",
              "      <td>0.000</td>\n",
              "    </tr>\n",
              "    <tr>\n",
              "      <th>7852</th>\n",
              "      <td>25319</td>\n",
              "      <td>projector</td>\n",
              "      <td>InFocus IN112A SVGA DLP Projector</td>\n",
              "      <td>Be ready for your next presentation or family ...</td>\n",
              "      <td>4</td>\n",
              "      <td>0.000</td>\n",
              "    </tr>\n",
              "    <tr>\n",
              "      <th>7901</th>\n",
              "      <td>25504</td>\n",
              "      <td>projector</td>\n",
              "      <td>2600Lumens 1080P HD LED/LCD Projector HDMI USB...</td>\n",
              "      <td>NaN</td>\n",
              "      <td>4</td>\n",
              "      <td>0.000</td>\n",
              "    </tr>\n",
              "    <tr>\n",
              "      <th>8136</th>\n",
              "      <td>26249</td>\n",
              "      <td>projector</td>\n",
              "      <td>Inflatable Movie Screen w/ Storage Bag - 12.5'</td>\n",
              "      <td>Target toys outdoor toys outdoor entertainment...</td>\n",
              "      <td>1</td>\n",
              "      <td>0.000</td>\n",
              "    </tr>\n",
              "    <tr>\n",
              "      <th>8287</th>\n",
              "      <td>26685</td>\n",
              "      <td>projector</td>\n",
              "      <td>Panasonic Projector Lamp</td>\n",
              "      <td>220W UHM - 2000 Hour</td>\n",
              "      <td>4</td>\n",
              "      <td>0.943</td>\n",
              "    </tr>\n",
              "    <tr>\n",
              "      <th>8412</th>\n",
              "      <td>27081</td>\n",
              "      <td>projector</td>\n",
              "      <td>Infocus IN126STa 3300 Lumens 1280 x 800 - WXGA...</td>\n",
              "      <td>Infocus IN126STa 3300 Lumens 1280 x 800 - WXGA...</td>\n",
              "      <td>4</td>\n",
              "      <td>0.471</td>\n",
              "    </tr>\n",
              "    <tr>\n",
              "      <th>9293</th>\n",
              "      <td>29890</td>\n",
              "      <td>projector</td>\n",
              "      <td>Projector (Deluxe Edition) (Bonus Tracks)</td>\n",
              "      <td>Although Dark Tranquillity's albums have tende...</td>\n",
              "      <td>3</td>\n",
              "      <td>0.943</td>\n",
              "    </tr>\n",
              "    <tr>\n",
              "      <th>9306</th>\n",
              "      <td>29929</td>\n",
              "      <td>projector</td>\n",
              "      <td>VVME HD Portable Mini LED Projector Home Theat...</td>\n",
              "      <td>NaN</td>\n",
              "      <td>4</td>\n",
              "      <td>0.000</td>\n",
              "    </tr>\n",
              "    <tr>\n",
              "      <th>9474</th>\n",
              "      <td>30468</td>\n",
              "      <td>projector</td>\n",
              "      <td>Acer C120 DLP Projector - 16:9</td>\n",
              "      <td>The ultra-lightweight Acer C Series LED pico p...</td>\n",
              "      <td>4</td>\n",
              "      <td>0.000</td>\n",
              "    </tr>\n",
              "    <tr>\n",
              "      <th>9531</th>\n",
              "      <td>30635</td>\n",
              "      <td>projector</td>\n",
              "      <td>NEC NP-L102W 1000 Lumens 1280 x 800 WXGA 10,00...</td>\n",
              "      <td>The 1000-lumen NEC L102W is a lightweight mobi...</td>\n",
              "      <td>4</td>\n",
              "      <td>0.000</td>\n",
              "    </tr>\n",
              "    <tr>\n",
              "      <th>10055</th>\n",
              "      <td>32337</td>\n",
              "      <td>projector</td>\n",
              "      <td>Mini Portable HD LED LCD Projector Home Cinema...</td>\n",
              "      <td>NaN</td>\n",
              "      <td>4</td>\n",
              "      <td>0.471</td>\n",
              "    </tr>\n",
              "  </tbody>\n",
              "</table>\n",
              "</div>\n",
              "      <button class=\"colab-df-convert\" onclick=\"convertToInteractive('df-92476fda-5b01-4793-9be1-7a4dade6ee58')\"\n",
              "              title=\"Convert this dataframe to an interactive table.\"\n",
              "              style=\"display:none;\">\n",
              "        \n",
              "  <svg xmlns=\"http://www.w3.org/2000/svg\" height=\"24px\"viewBox=\"0 0 24 24\"\n",
              "       width=\"24px\">\n",
              "    <path d=\"M0 0h24v24H0V0z\" fill=\"none\"/>\n",
              "    <path d=\"M18.56 5.44l.94 2.06.94-2.06 2.06-.94-2.06-.94-.94-2.06-.94 2.06-2.06.94zm-11 1L8.5 8.5l.94-2.06 2.06-.94-2.06-.94L8.5 2.5l-.94 2.06-2.06.94zm10 10l.94 2.06.94-2.06 2.06-.94-2.06-.94-.94-2.06-.94 2.06-2.06.94z\"/><path d=\"M17.41 7.96l-1.37-1.37c-.4-.4-.92-.59-1.43-.59-.52 0-1.04.2-1.43.59L10.3 9.45l-7.72 7.72c-.78.78-.78 2.05 0 2.83L4 21.41c.39.39.9.59 1.41.59.51 0 1.02-.2 1.41-.59l7.78-7.78 2.81-2.81c.8-.78.8-2.07 0-2.86zM5.41 20L4 18.59l7.72-7.72 1.47 1.35L5.41 20z\"/>\n",
              "  </svg>\n",
              "      </button>\n",
              "      \n",
              "  <style>\n",
              "    .colab-df-container {\n",
              "      display:flex;\n",
              "      flex-wrap:wrap;\n",
              "      gap: 12px;\n",
              "    }\n",
              "\n",
              "    .colab-df-convert {\n",
              "      background-color: #E8F0FE;\n",
              "      border: none;\n",
              "      border-radius: 50%;\n",
              "      cursor: pointer;\n",
              "      display: none;\n",
              "      fill: #1967D2;\n",
              "      height: 32px;\n",
              "      padding: 0 0 0 0;\n",
              "      width: 32px;\n",
              "    }\n",
              "\n",
              "    .colab-df-convert:hover {\n",
              "      background-color: #E2EBFA;\n",
              "      box-shadow: 0px 1px 2px rgba(60, 64, 67, 0.3), 0px 1px 3px 1px rgba(60, 64, 67, 0.15);\n",
              "      fill: #174EA6;\n",
              "    }\n",
              "\n",
              "    [theme=dark] .colab-df-convert {\n",
              "      background-color: #3B4455;\n",
              "      fill: #D2E3FC;\n",
              "    }\n",
              "\n",
              "    [theme=dark] .colab-df-convert:hover {\n",
              "      background-color: #434B5C;\n",
              "      box-shadow: 0px 1px 3px 1px rgba(0, 0, 0, 0.15);\n",
              "      filter: drop-shadow(0px 1px 2px rgba(0, 0, 0, 0.3));\n",
              "      fill: #FFFFFF;\n",
              "    }\n",
              "  </style>\n",
              "\n",
              "      <script>\n",
              "        const buttonEl =\n",
              "          document.querySelector('#df-92476fda-5b01-4793-9be1-7a4dade6ee58 button.colab-df-convert');\n",
              "        buttonEl.style.display =\n",
              "          google.colab.kernel.accessAllowed ? 'block' : 'none';\n",
              "\n",
              "        async function convertToInteractive(key) {\n",
              "          const element = document.querySelector('#df-92476fda-5b01-4793-9be1-7a4dade6ee58');\n",
              "          const dataTable =\n",
              "            await google.colab.kernel.invokeFunction('convertToInteractive',\n",
              "                                                     [key], {});\n",
              "          if (!dataTable) return;\n",
              "\n",
              "          const docLinkHtml = 'Like what you see? Visit the ' +\n",
              "            '<a target=\"_blank\" href=https://colab.research.google.com/notebooks/data_table.ipynb>data table notebook</a>'\n",
              "            + ' to learn more about interactive tables.';\n",
              "          element.innerHTML = '';\n",
              "          dataTable['output_type'] = 'display_data';\n",
              "          await google.colab.output.renderOutput(dataTable, element);\n",
              "          const docLink = document.createElement('div');\n",
              "          docLink.innerHTML = docLinkHtml;\n",
              "          element.appendChild(docLink);\n",
              "        }\n",
              "      </script>\n",
              "    </div>\n",
              "  </div>\n",
              "  "
            ]
          },
          "metadata": {},
          "execution_count": 139
        }
      ],
      "source": [
        "\n",
        "search_df[search_df['query']=='projector']"
      ]
    },
    {
      "cell_type": "code",
      "execution_count": 140,
      "id": "db91d77a-9019-47df-b3bb-cb9040d3879a",
      "metadata": {
        "colab": {
          "base_uri": "https://localhost:8080/"
        },
        "id": "db91d77a-9019-47df-b3bb-cb9040d3879a",
        "outputId": "6e7e81da-ba11-4f26-fd2f-a8fd55ba76c8"
      },
      "outputs": [
        {
          "output_type": "execute_result",
          "data": {
            "text/plain": [
              "4    6171\n",
              "3    1737\n",
              "2    1476\n",
              "1     774\n",
              "Name: median_relevance, dtype: int64"
            ]
          },
          "metadata": {},
          "execution_count": 140
        }
      ],
      "source": [
        "#Checking target labels -\n",
        "search_df['median_relevance'].value_counts()"
      ]
    },
    {
      "cell_type": "code",
      "source": [
        "plt.rcParams[\"figure.figsize\"] = (5,4)\n",
        "\n",
        "sizes = search_df.median_relevance.value_counts()\n",
        "\n",
        "ax=plt.pie(sizes,labels=search_df['median_relevance'].unique())\n",
        "\n",
        "plt.legend(title=\"Median Relevance\",loc=\"center left\",\n",
        "           bbox_to_anchor=(1, 0, 0.5, 1))\n",
        "plt.show()"
      ],
      "metadata": {
        "colab": {
          "base_uri": "https://localhost:8080/",
          "height": 248
        },
        "id": "eRS7uamcWZxn",
        "outputId": "0dca6739-9326-4752-f7aa-f207b0c935eb"
      },
      "id": "eRS7uamcWZxn",
      "execution_count": 216,
      "outputs": [
        {
          "output_type": "display_data",
          "data": {
            "text/plain": [
              "<Figure size 360x288 with 1 Axes>"
            ],
            "image/png": "[encoded data removed]"
          },
          "metadata": {}
        }
      ]
    },
    {
      "cell_type": "code",
      "source": [
        "import seaborn as sns\n",
        "\n",
        "ax=sns.displot(data=search_df[search_df['query']=='wireless mouse'],x='id',kind='kde',height=4,aspect=3,hue='relevance_variance').set(title='Relevance Variance Distribution')\n",
        "plt.show()"
      ],
      "metadata": {
        "colab": {
          "base_uri": "https://localhost:8080/",
          "height": 338
        },
        "id": "8GkweL5df9Ot",
        "outputId": "c3276af9-530c-414c-ada9-b2649d4b5b89"
      },
      "id": "8GkweL5df9Ot",
      "execution_count": 246,
      "outputs": [
        {
          "output_type": "stream",
          "name": "stderr",
          "text": [
            "/usr/local/lib/python3.7/dist-packages/seaborn/distributions.py:316: UserWarning: Dataset has 0 variance; skipping density estimate. Pass `warn_singular=False` to disable this warning.\n",
            "  warnings.warn(msg, UserWarning)\n"
          ]
        },
        {
          "output_type": "display_data",
          "data": {
            "text/plain": [
              "<Figure size 969.125x288 with 1 Axes>"
            ],
            "image/png": "[encoded data removed]"
          },
          "metadata": {
            "needs_background": "light"
          }
        }
      ]
    },
    {
      "cell_type": "code",
      "source": [
        "import matplotlib.pyplot as plt\n",
        "\n",
        "df = search_df['query'].value_counts().rename_axis('query').reset_index(name='counts')\n",
        "df_test = search_test['query'].value_counts().rename_axis('query').reset_index(name='counts')\n",
        "df=df.merge(df_test,how='left',left_on='query',right_on='query')\n",
        "df=df[:50]\n",
        "\n",
        "plt.bar(df['query'],df['counts_x'])\n",
        "plt.bar(df['query'],df['counts_y'],color='orange',alpha=0.3)\n",
        "plt.xticks(rotation= 90)\n",
        "plt.show()"
      ],
      "metadata": {
        "colab": {
          "base_uri": "https://localhost:8080/",
          "height": 345
        },
        "id": "vGi7t0ENUuW5",
        "outputId": "4587c667-bea5-4ace-e6c3-5ff6e3e346c5"
      },
      "id": "vGi7t0ENUuW5",
      "execution_count": 160,
      "outputs": [
        {
          "output_type": "display_data",
          "data": {
            "text/plain": [
              "<Figure size 1440x216 with 1 Axes>"
            ],
            "image/png": "[encoded data removed]"
          },
          "metadata": {
            "needs_background": "light"
          }
        }
      ]
    },
    {
      "cell_type": "code",
      "execution_count": 141,
      "id": "f772f077-f5cd-496a-b733-ee9eb74cb66c",
      "metadata": {
        "colab": {
          "base_uri": "https://localhost:8080/"
        },
        "id": "f772f077-f5cd-496a-b733-ee9eb74cb66c",
        "outputId": "e7b19c15-3bab-408e-e840-b963a0b49de7"
      },
      "outputs": [
        {
          "output_type": "stream",
          "name": "stdout",
          "text": [
            "Looking in indexes: https://pypi.org/simple, https://us-python.pkg.dev/colab-wheels/public/simple/\n",
            "Requirement already satisfied: textdistance in /usr/local/lib/python3.7/dist-packages (4.2.2)\n"
          ]
        }
      ],
      "source": [
        "ip install textdistance"
      ]
    },
    {
      "cell_type": "code",
      "execution_count": 142,
      "id": "c2e9907e-cf55-47dd-a9e2-2ea504558d94",
      "metadata": {
        "id": "c2e9907e-cf55-47dd-a9e2-2ea504558d94"
      },
      "outputs": [],
      "source": [
        "import textdistance\n",
        "dist=textdistance.hamming('projector','LG PH300 Minibeam LED Projector with Embedded Battery and Built-in Digital Tuner')"
      ]
    },
    {
      "cell_type": "code",
      "execution_count": 143,
      "id": "55ffc8b0-4f01-431f-a83d-1175244e892c",
      "metadata": {
        "id": "55ffc8b0-4f01-431f-a83d-1175244e892c"
      },
      "outputs": [],
      "source": [
        "#Removing numbers from and punctuations from the title field\n",
        "import re\n",
        "def clean_data(text):\n",
        "    text=re.sub(r'\\d+(?:\\.\\d*(?:[eE]\\d+))?','NUMBER', text)\n",
        "    text=re.sub(r'\\W+',' ',text,flags=re.M)\n",
        "    return text"
      ]
    },
    {
      "cell_type": "code",
      "execution_count": 144,
      "id": "8fc505ab-4294-4116-9a9c-eef17b0021f7",
      "metadata": {
        "id": "8fc505ab-4294-4116-9a9c-eef17b0021f7"
      },
      "outputs": [],
      "source": [
        "search_title=search_df['product_title'].apply(clean_data)"
      ]
    },
    {
      "cell_type": "code",
      "execution_count": 247,
      "id": "0bcf5fa9-2649-4fd3-8360-d024e76b2ca1",
      "metadata": {
        "colab": {
          "base_uri": "https://localhost:8080/"
        },
        "id": "0bcf5fa9-2649-4fd3-8360-d024e76b2ca1",
        "outputId": "6547529f-6d04-4fd5-b7db-8e14f70a880d"
      },
      "outputs": [
        {
          "output_type": "execute_result",
          "data": {
            "text/plain": [
              "0                Accent Pillow with Heart Design Red Black\n",
              "1        Set of NUMBER Battery Operated Multi LED Train...\n",
              "2             ViewSonic ProNUMBER DLP Multimedia Projector\n",
              "3        Concept Housewares WR NUMBER Solid Wood Ceilin...\n",
              "4        Wintergreen Lighting Christmas LED Light Bulb ...\n",
              "                               ...                        \n",
              "10153                 Plantronics TriStar HNUMBERN headset\n",
              "10154    Marvel Legends Infinite Series Amazing Spider ...\n",
              "10155                MLB NUMBER The Show PlayStation Vita \n",
              "10156    Junkyard Findings Vintage Trinkets Small Typo ...\n",
              "10157    Polar FNUMBER Black Coal Heart Rate Monitor Me...\n",
              "Name: product_title, Length: 10158, dtype: object"
            ]
          },
          "metadata": {},
          "execution_count": 247
        }
      ],
      "source": [
        "search_title"
      ]
    },
    {
      "cell_type": "code",
      "execution_count": 248,
      "id": "756d5e81-7863-4044-9001-99aede2976b1",
      "metadata": {
        "id": "756d5e81-7863-4044-9001-99aede2976b1"
      },
      "outputs": [],
      "source": [
        "y_train=search_df['median_relevance']\n",
        "search_df=search_df.drop(['median_relevance','relevance_variance'],axis=1)"
      ]
    },
    {
      "cell_type": "code",
      "execution_count": 249,
      "id": "5b0e4c01-318a-4462-aedf-b10a676bd39a",
      "metadata": {
        "id": "5b0e4c01-318a-4462-aedf-b10a676bd39a"
      },
      "outputs": [],
      "source": [
        "train = search_df.drop('id', axis=1)\n",
        "test = search_test.drop('id', axis=1)"
      ]
    },
    {
      "cell_type": "code",
      "execution_count": 250,
      "id": "89f7fea9-8986-4ee6-9e2f-bb085206666c",
      "metadata": {
        "id": "89f7fea9-8986-4ee6-9e2f-bb085206666c"
      },
      "outputs": [],
      "source": [
        "traindata = list(train.apply(lambda x:'%s %s' % (x['query'],x['product_title']),axis=1))\n",
        "testdata = list(test.apply(lambda x:'%s %s' % (x['query'],x['product_title']),axis=1)) "
      ]
    },
    {
      "cell_type": "code",
      "execution_count": 251,
      "id": "7a7622fb-b78a-414a-a6ed-7bd2708597c7",
      "metadata": {
        "colab": {
          "base_uri": "https://localhost:8080/"
        },
        "id": "7a7622fb-b78a-414a-a6ed-7bd2708597c7",
        "outputId": "1c61d4ae-120a-4f3c-d1ae-3308d3c3d617"
      },
      "outputs": [
        {
          "output_type": "execute_result",
          "data": {
            "text/plain": [
              "['bridal shower decorations Accent Pillow with Heart Design - Red/Black',\n",
              " 'led christmas lights Set of 10 Battery Operated Multi LED Train Christmas Lights - Clear Wire',\n",
              " 'projector ViewSonic Pro8200 DLP Multimedia Projector',\n",
              " 'wine rack Concept Housewares WR-44526 Solid-Wood Ceiling/Wall-Mount Wine Rack, Charcoal Grey, 6 Bottle',\n",
              " 'light bulb Wintergreen Lighting Christmas LED Light Bulb (Pack of 25)']"
            ]
          },
          "metadata": {},
          "execution_count": 251
        }
      ],
      "source": [
        "traindata[0:5]"
      ]
    },
    {
      "cell_type": "code",
      "execution_count": 252,
      "id": "6435e9db-160b-4765-a956-d1314fb583d5",
      "metadata": {
        "id": "6435e9db-160b-4765-a956-d1314fb583d5"
      },
      "outputs": [],
      "source": [
        "#Tfidf on Title column\n",
        "from sklearn.feature_extraction.text import TfidfVectorizer\n",
        "tfidf_cnv=TfidfVectorizer(stop_words='english',min_df=3,analyzer='word',ngram_range=(1,5),token_pattern=r'\\w{1,}')\n",
        "X_train=tfidf_cnv.fit_transform(traindata)"
      ]
    },
    {
      "cell_type": "code",
      "execution_count": 334,
      "id": "5175521d-ce61-4fa7-8c11-3e80e8a08332",
      "metadata": {
        "colab": {
          "base_uri": "https://localhost:8080/"
        },
        "id": "5175521d-ce61-4fa7-8c11-3e80e8a08332",
        "outputId": "22d83e13-45e9-4e0e-b2a5-f693268fa504"
      },
      "outputs": [
        {
          "output_type": "stream",
          "name": "stderr",
          "text": [
            "/usr/local/lib/python3.7/dist-packages/sklearn/utils/deprecation.py:87: FutureWarning: Function get_feature_names is deprecated; get_feature_names is deprecated in 1.0 and will be removed in 1.2. Please use get_feature_names_out instead.\n",
            "  warnings.warn(msg, category=FutureWarning)\n"
          ]
        }
      ],
      "source": [
        "feature_names = tfidf_cnv.get_feature_names()"
      ]
    },
    {
      "cell_type": "code",
      "execution_count": 344,
      "id": "582b8052-099b-4609-a49e-c0c0cbc85e65",
      "metadata": {
        "colab": {
          "base_uri": "https://localhost:8080/"
        },
        "id": "582b8052-099b-4609-a49e-c0c0cbc85e65",
        "outputId": "e5391883-7344-45ff-f7c0-ff3a3d69e20c"
      },
      "outputs": [
        {
          "output_type": "stream",
          "name": "stdout",
          "text": [
            "('bridal shower decorations accent pillow', 'b') 0.261742125188547\n",
            "('shower decorations accent pillow', 'b') 0.261742125188547\n",
            "('bridal shower decorations accent', 'b') 0.261742125188547\n",
            "('decorations accent pillow', 'b') 0.261742125188547\n",
            "('shower decorations accent', 'b') 0.261742125188547\n",
            "('bridal shower decorations', 'b') 0.1956813789955167\n",
            "('red black', 'b') 0.2377917675212798\n",
            "('heart design', 'b') 0.2685203837650798\n",
            "('accent pillow', 'b') 0.261742125188547\n",
            "('decorations accent', 'b') 0.261742125188547\n",
            "('shower decorations', 'b') 0.1956813789955167\n",
            "('bridal shower', 'b') 0.1956813789955167\n",
            "('black', 'b') 0.09900061546307047\n",
            "('red', 'b') 0.14414965478495423\n",
            "('design', 'b') 0.18429960671355355\n",
            "('heart', 'b') 0.1811466520220755\n",
            "('pillow', 'b') 0.1557160855343555\n",
            "('accent', 'b') 0.2083450387130452\n",
            "('decorations', 'b') 0.194998738484414\n",
            "('shower', 'b') 0.1900282943976819\n",
            "('bridal', 'b') 0.19433110228300043\n"
          ]
        }
      ],
      "source": [
        "X_test=tfidf_cnv.transform(testdata)\n",
        "corpus_index = [n for n in traindata[0]]\n",
        "\n",
        "rows, cols = X_train[0].nonzero()\n",
        "for row, col in zip(rows, cols):\n",
        "    print((feature_names[col], corpus_index[row]), X_train[row, col])"
      ]
    },
    {
      "cell_type": "code",
      "execution_count": 255,
      "id": "bb7d67f2-5e4a-4182-a1fa-55c7a0500118",
      "metadata": {
        "colab": {
          "base_uri": "https://localhost:8080/"
        },
        "id": "bb7d67f2-5e4a-4182-a1fa-55c7a0500118",
        "outputId": "ed25663c-df86-43e5-b977-88032ad6f68d"
      },
      "outputs": [
        {
          "output_type": "execute_result",
          "data": {
            "text/plain": [
              "<22513x19256 sparse matrix of type '<class 'numpy.float64'>'\n",
              "\twith 345886 stored elements in Compressed Sparse Row format>"
            ]
          },
          "metadata": {},
          "execution_count": 255
        }
      ],
      "source": [
        "X_test"
      ]
    },
    {
      "cell_type": "code",
      "execution_count": 256,
      "id": "56691cf5-3491-4156-ba5d-811761127ec1",
      "metadata": {
        "id": "56691cf5-3491-4156-ba5d-811761127ec1"
      },
      "outputs": [],
      "source": [
        "#Dimensionality Reduction as an Initialization step\n",
        "from sklearn.decomposition import TruncatedSVD\n",
        "svd=TruncatedSVD()"
      ]
    },
    {
      "cell_type": "code",
      "execution_count": 257,
      "id": "e4f2a284-9ba8-46e3-9e9e-fe6fbf844aa1",
      "metadata": {
        "id": "e4f2a284-9ba8-46e3-9e9e-fe6fbf844aa1"
      },
      "outputs": [],
      "source": [
        "#Scaling the training data\n",
        "from sklearn.preprocessing import StandardScaler\n",
        "std=StandardScaler()"
      ]
    },
    {
      "cell_type": "code",
      "execution_count": 258,
      "id": "45b5636d-9a0f-460b-a1de-79e5f30fca8f",
      "metadata": {
        "id": "45b5636d-9a0f-460b-a1de-79e5f30fca8f"
      },
      "outputs": [],
      "source": [
        "#SVM Model\n",
        "from sklearn.svm import SVC\n",
        "svm_model=SVC()"
      ]
    },
    {
      "cell_type": "code",
      "execution_count": 259,
      "id": "d0acab3b-b54f-487b-a276-6382f1134ee9",
      "metadata": {
        "id": "d0acab3b-b54f-487b-a276-6382f1134ee9"
      },
      "outputs": [],
      "source": [
        "#Creating a pipeline to initialize, scale and Train the model\n",
        "from sklearn.model_selection import GridSearchCV\n",
        "from sklearn.pipeline import Pipeline\n",
        "\n",
        "clf=Pipeline([\n",
        "    ('svd',svd),\n",
        "    ('std',std),\n",
        "    ('svm',svm_model)\n",
        "])"
      ]
    },
    {
      "cell_type": "code",
      "execution_count": 260,
      "id": "5a3075b8-8112-4bf5-8af0-3c7cabeeea98",
      "metadata": {
        "id": "5a3075b8-8112-4bf5-8af0-3c7cabeeea98"
      },
      "outputs": [],
      "source": [
        "#creating a scorer(evaluator) function\n",
        "def build_confusion_matrix(rater_a,rater_b,min_rating=None,max_rating=None):\n",
        "    assert(len(rater_a)==len(rater_b))\n",
        "    if min_rating == None:\n",
        "        min_rating=min(rater_a + rater_b)\n",
        "    if max_rating == None:\n",
        "        max_rating=max(rater_a + rater_b)\n",
        "    num_ratings=int(max_rating - min_rating +1)\n",
        "    print(min_rating)\n",
        "    conf_mat=[[0 for i in range(num_ratings)] for j in range(num_ratings)]\n",
        "    for a,b in zip(rater_a,rater_b):\n",
        "        conf_mat[a - min_rating][b - min_rating] += 1\n",
        "    return conf_mat"
      ]
    },
    {
      "cell_type": "code",
      "execution_count": 261,
      "id": "103e890f-1287-497b-b0c2-7978a2fbc049",
      "metadata": {
        "id": "103e890f-1287-497b-b0c2-7978a2fbc049"
      },
      "outputs": [],
      "source": [
        "#Count of each type of rating user makes\n",
        "def histogram(ratings,min_rating=None,max_rating=None):\n",
        "    if min_rating == None:\n",
        "        min_rating=min(ratings)\n",
        "    if max_rating == None:\n",
        "        max_rating=max(ratings)\n",
        "    num_ratings = int(max_rating - min_rating + 1)\n",
        "    hist_ratings = [0 for i in range(num_ratings)]\n",
        "    for i in hist_ratings:\n",
        "        hist_ratings[r - min_rating] += 1\n",
        "    return hist_ratings"
      ]
    },
    {
      "cell_type": "code",
      "execution_count": 262,
      "id": "f4da7617-da0f-4e24-8aae-2e7de98ab7e5",
      "metadata": {
        "id": "f4da7617-da0f-4e24-8aae-2e7de98ab7e5"
      },
      "outputs": [],
      "source": [
        "#The kappa statistic is frequently used to test interrater reliability. The importance of rater reliability lies in the fact that it represents the extent to which \n",
        "#the data collected in the study are correct representations of the variables measured. Measurement of the extent to which data collectors (raters) assign the same \n",
        "#score to the same variable is called interrater reliability. While there have been a variety of methods to measure interrater reliability, traditionally it was \n",
        "#measured as percent agreement, calculated as the number of agreement scores divided by the total number of scores.\n",
        "#For deatils on Kappa - link - https://www.kaggle.com/aroraaman/quadratic-kappa-metric-explained-in-5-simple-steps\n",
        "def quadratic_weighted_kappa(y, y_pred):\n",
        "    rater_a=y\n",
        "    rater_b=y_pred\n",
        "    min_rating=None\n",
        "    max_rating=None\n",
        "    rater_a = np.array(rater_a, dtype=int)                     #they were df object so converted them into array\n",
        "    rater_b = np.array(rater_b, dtype=int)\n",
        "    assert(len(rater_a)==len(rater_b))\n",
        "    if min_rating == None:\n",
        "        min_rating=min(min(rater_a),min(rater_b))\n",
        "    if max_rating == None:\n",
        "        max_rating=max(max(rater_a),max(rater_b))\n",
        "    conf_mat=build_confusion_matrix(rater_a,rater_b,min_rating,max_rating)          #Maps the predicted and actual o/p values\n",
        "    num_ratings=len(conf_mat)\n",
        "    num_scored_items=float(len(rater_a))\n",
        "    \n",
        "    hist_rater_a = histogram(rater_a, min_rating, max_rating)                       #Create vectors depicting which catagory contains how many no of instances for \n",
        "    hist_rater_b = histogram(rater_b, min_rating, max_rating)                       #both predicted and actual\n",
        "    \n",
        "    numerator = 0.0\n",
        "    denominator = 0.0\n",
        "\n",
        "    for i in range(num_ratings):\n",
        "        for j in range(num_ratings):\n",
        "            expected_count = (hist_rater_a[i] * hist_rater_b[j]   #expected matrix - outer product of the above derived vectors and normalized using num_scored_items\n",
        "                              / num_scored_items)\n",
        "            d = pow(i - j, 2.0) / pow(num_ratings - 1, 2.0)       #Assigning a weight to be applied on each element of confusion matrix\n",
        "            numerator += d * conf_mat[i][j] / num_scored_items    #weight*confusion matrix along with normalization\n",
        "            denominator += d * expected_count / num_scored_items  #weight*expected matrix elemenr along with normalization\n",
        "\n",
        "    return (1.0 - numerator / denominator)                        #kappa coefficient formula"
      ]
    },
    {
      "cell_type": "code",
      "execution_count": 263,
      "id": "044cac6c-58c9-4ad0-9832-aec89d9b2add",
      "metadata": {
        "id": "044cac6c-58c9-4ad0-9832-aec89d9b2add"
      },
      "outputs": [],
      "source": [
        "#Setting validation params for GridSearchCV\n",
        "param_grid={'svd__n_components':[200,400],\n",
        "            'svm__C':[10,12]}"
      ]
    },
    {
      "cell_type": "code",
      "execution_count": 264,
      "id": "5f63d791-12db-4aa0-8fd1-e134ea8fabbe",
      "metadata": {
        "id": "5f63d791-12db-4aa0-8fd1-e134ea8fabbe"
      },
      "outputs": [],
      "source": [
        "#Setting model scorer\n",
        "from sklearn import metrics\n",
        "kappa_scorer = metrics.make_scorer(quadratic_weighted_kappa, greater_is_better = True)"
      ]
    },
    {
      "cell_type": "code",
      "execution_count": 265,
      "id": "4484bdff-caeb-4e77-b432-da9fc9478ccc",
      "metadata": {
        "id": "4484bdff-caeb-4e77-b432-da9fc9478ccc"
      },
      "outputs": [],
      "source": [
        "#Applying GridSearchVC on the SVM model\n",
        "grid_search_clf=GridSearchCV(estimator=clf,param_grid=param_grid,scoring=kappa_scorer,verbose=10, n_jobs=-1, refit=True, cv=2)"
      ]
    },
    {
      "cell_type": "code",
      "execution_count": 266,
      "id": "fa8bdd2e-79e0-4d84-be26-39da35d345b3",
      "metadata": {
        "colab": {
          "base_uri": "https://localhost:8080/"
        },
        "id": "fa8bdd2e-79e0-4d84-be26-39da35d345b3",
        "outputId": "f64f4bd4-5eb3-4be1-eab8-ae44e96721d8"
      },
      "outputs": [
        {
          "output_type": "stream",
          "name": "stdout",
          "text": [
            "Fitting 2 folds for each of 4 candidates, totalling 8 fits\n"
          ]
        },
        {
          "output_type": "stream",
          "name": "stderr",
          "text": [
            "/usr/local/lib/python3.7/dist-packages/sklearn/model_selection/_search.py:972: UserWarning: One or more of the test scores are non-finite: [nan nan nan nan]\n",
            "  category=UserWarning,\n"
          ]
        },
        {
          "output_type": "execute_result",
          "data": {
            "text/plain": [
              "GridSearchCV(cv=2,\n",
              "             estimator=Pipeline(steps=[('svd', TruncatedSVD()),\n",
              "                                       ('std', StandardScaler()),\n",
              "                                       ('svm', SVC())]),\n",
              "             n_jobs=-1,\n",
              "             param_grid={'svd__n_components': [200, 400], 'svm__C': [10, 12]},\n",
              "             scoring=make_scorer(quadratic_weighted_kappa), verbose=10)"
            ]
          },
          "metadata": {},
          "execution_count": 266
        }
      ],
      "source": [
        "grid_search_clf.fit(X_train,y_train)"
      ]
    },
    {
      "cell_type": "code",
      "execution_count": 267,
      "id": "0fff397c-f1d7-4c48-8080-8f90a041df1f",
      "metadata": {
        "colab": {
          "base_uri": "https://localhost:8080/"
        },
        "id": "0fff397c-f1d7-4c48-8080-8f90a041df1f",
        "outputId": "b96cc087-7549-4be1-8348-4dc03c78c13f"
      },
      "outputs": [
        {
          "output_type": "execute_result",
          "data": {
            "text/plain": [
              "dict_keys(['memory', 'steps', 'verbose', 'svd', 'std', 'svm', 'svd__algorithm', 'svd__n_components', 'svd__n_iter', 'svd__random_state', 'svd__tol', 'std__copy', 'std__with_mean', 'std__with_std', 'svm__C', 'svm__break_ties', 'svm__cache_size', 'svm__class_weight', 'svm__coef0', 'svm__decision_function_shape', 'svm__degree', 'svm__gamma', 'svm__kernel', 'svm__max_iter', 'svm__probability', 'svm__random_state', 'svm__shrinking', 'svm__tol', 'svm__verbose'])"
            ]
          },
          "metadata": {},
          "execution_count": 267
        }
      ],
      "source": [
        "#gives details of parameters available for the Pipeline created\n",
        "clf.get_params().keys()"
      ]
    },
    {
      "cell_type": "code",
      "execution_count": 268,
      "id": "95448788-b26c-43e6-9466-305fac0011b8",
      "metadata": {
        "colab": {
          "base_uri": "https://localhost:8080/"
        },
        "id": "95448788-b26c-43e6-9466-305fac0011b8",
        "outputId": "0450d372-e95b-46c9-b040-11e7b4eac2c0"
      },
      "outputs": [
        {
          "output_type": "execute_result",
          "data": {
            "text/plain": [
              "<5x19256 sparse matrix of type '<class 'numpy.float64'>'\n",
              "\twith 100 stored elements in Compressed Sparse Row format>"
            ]
          },
          "metadata": {},
          "execution_count": 268
        }
      ],
      "source": [
        "#Running the model on just 5records\n",
        "X_train_subset=tfidf_cnv.transform(traindata[:5])\n",
        "X_train_subset"
      ]
    },
    {
      "cell_type": "code",
      "execution_count": 269,
      "id": "4211d594-5715-4128-ae59-b680e71b354e",
      "metadata": {
        "colab": {
          "base_uri": "https://localhost:8080/"
        },
        "id": "4211d594-5715-4128-ae59-b680e71b354e",
        "outputId": "6b848f61-9c9e-4034-9052-2614a1c63713"
      },
      "outputs": [
        {
          "output_type": "execute_result",
          "data": {
            "text/plain": [
              "0    1\n",
              "1    4\n",
              "2    4\n",
              "3    4\n",
              "4    2\n",
              "Name: median_relevance, dtype: int64"
            ]
          },
          "metadata": {},
          "execution_count": 269
        }
      ],
      "source": [
        "y_train_subset=y_train[:5]\n",
        "y_train_subset"
      ]
    },
    {
      "cell_type": "code",
      "execution_count": 270,
      "id": "2f44aa9a-c1ad-473a-9ee2-30c8b48c84c9",
      "metadata": {
        "id": "2f44aa9a-c1ad-473a-9ee2-30c8b48c84c9"
      },
      "outputs": [],
      "source": [
        "y_subset=grid_search_clf.predict(X_train_subset)"
      ]
    },
    {
      "cell_type": "code",
      "execution_count": 271,
      "id": "0832773e-908e-43e2-a7a8-be240a82b342",
      "metadata": {
        "colab": {
          "base_uri": "https://localhost:8080/"
        },
        "id": "0832773e-908e-43e2-a7a8-be240a82b342",
        "outputId": "8f46e1ad-972f-441f-f820-fa68f1b902c7"
      },
      "outputs": [
        {
          "output_type": "execute_result",
          "data": {
            "text/plain": [
              "array([1, 4, 4, 4, 4])"
            ]
          },
          "metadata": {},
          "execution_count": 271
        }
      ],
      "source": [
        "y_subset           #Refer copy for dry run"
      ]
    },
    {
      "cell_type": "code",
      "execution_count": 272,
      "id": "c9554f23-d593-4de3-85db-c38d2a4b8f3e",
      "metadata": {
        "colab": {
          "base_uri": "https://localhost:8080/"
        },
        "id": "c9554f23-d593-4de3-85db-c38d2a4b8f3e",
        "outputId": "f190e57e-8c4a-4e22-f253-415284028ede"
      },
      "outputs": [
        {
          "output_type": "execute_result",
          "data": {
            "text/plain": [
              "{'memory': None,\n",
              " 'std': StandardScaler(),\n",
              " 'std__copy': True,\n",
              " 'std__with_mean': True,\n",
              " 'std__with_std': True,\n",
              " 'steps': [('svd', TruncatedSVD(n_components=200)),\n",
              "  ('std', StandardScaler()),\n",
              "  ('svm', SVC(C=10))],\n",
              " 'svd': TruncatedSVD(n_components=200),\n",
              " 'svd__algorithm': 'randomized',\n",
              " 'svd__n_components': 200,\n",
              " 'svd__n_iter': 5,\n",
              " 'svd__random_state': None,\n",
              " 'svd__tol': 0.0,\n",
              " 'svm': SVC(C=10),\n",
              " 'svm__C': 10,\n",
              " 'svm__break_ties': False,\n",
              " 'svm__cache_size': 200,\n",
              " 'svm__class_weight': None,\n",
              " 'svm__coef0': 0.0,\n",
              " 'svm__decision_function_shape': 'ovr',\n",
              " 'svm__degree': 3,\n",
              " 'svm__gamma': 'scale',\n",
              " 'svm__kernel': 'rbf',\n",
              " 'svm__max_iter': -1,\n",
              " 'svm__probability': False,\n",
              " 'svm__random_state': None,\n",
              " 'svm__shrinking': True,\n",
              " 'svm__tol': 0.001,\n",
              " 'svm__verbose': False,\n",
              " 'verbose': False}"
            ]
          },
          "metadata": {},
          "execution_count": 272
        }
      ],
      "source": [
        "#best feature finding -\n",
        "grid_search_clf.best_estimator_.get_params()"
      ]
    },
    {
      "cell_type": "code",
      "execution_count": 273,
      "id": "2bf6f2f6-3003-4049-96fe-49b3149710f0",
      "metadata": {
        "id": "2bf6f2f6-3003-4049-96fe-49b3149710f0"
      },
      "outputs": [],
      "source": [
        "final_model=grid_search_clf.best_estimator_"
      ]
    },
    {
      "cell_type": "code",
      "execution_count": 274,
      "id": "89ca4646-76dc-4203-8504-f5916a6bd609",
      "metadata": {
        "colab": {
          "base_uri": "https://localhost:8080/"
        },
        "id": "89ca4646-76dc-4203-8504-f5916a6bd609",
        "outputId": "01b7a654-6145-4f7d-c130-b9b423665627"
      },
      "outputs": [
        {
          "output_type": "execute_result",
          "data": {
            "text/plain": [
              "Pipeline(steps=[('svd', TruncatedSVD(n_components=200)),\n",
              "                ('std', StandardScaler()), ('svm', SVC(C=10))])"
            ]
          },
          "metadata": {},
          "execution_count": 274
        }
      ],
      "source": [
        "final_model.fit(X_train,y_train)                  #Fitting model to the best estimated model obtained from GridSearchCV"
      ]
    },
    {
      "cell_type": "code",
      "execution_count": 275,
      "id": "c0a4a605-168c-4390-bc6b-138bf81573fc",
      "metadata": {
        "colab": {
          "base_uri": "https://localhost:8080/"
        },
        "id": "c0a4a605-168c-4390-bc6b-138bf81573fc",
        "outputId": "bd1a279b-f5dd-49a1-a8aa-08c283e0ae0b"
      },
      "outputs": [
        {
          "output_type": "execute_result",
          "data": {
            "text/plain": [
              "0.7809608190588698"
            ]
          },
          "metadata": {},
          "execution_count": 275
        }
      ],
      "source": [
        "from sklearn.metrics import accuracy_score\n",
        "y_train_pred=final_model.predict(X_train)\n",
        "accuracy_score(y_train, y_train_pred)"
      ]
    },
    {
      "cell_type": "code",
      "execution_count": 276,
      "id": "07a697c9-9754-4cf3-b34e-fa5dff733bc6",
      "metadata": {
        "id": "07a697c9-9754-4cf3-b34e-fa5dff733bc6"
      },
      "outputs": [],
      "source": [
        "y_test_pred=final_model.predict(X_test)"
      ]
    },
    {
      "cell_type": "code",
      "execution_count": 276,
      "id": "2da9ef2a-b30a-459c-8db9-755112f744df",
      "metadata": {
        "id": "2da9ef2a-b30a-459c-8db9-755112f744df"
      },
      "outputs": [],
      "source": [
        ""
      ]
    }
  ],
  "metadata": {
    "kernelspec": {
      "display_name": "Python 3 (ipykernel)",
      "language": "python",
      "name": "python3"
    },
    "language_info": {
      "codemirror_mode": {
        "name": "ipython",
        "version": 3
      },
      "file_extension": ".py",
      "mimetype": "text/x-python",
      "name": "python",
      "nbconvert_exporter": "python",
      "pygments_lexer": "ipython3",
      "version": "3.8.10"
    },
    "colab": {
      "name": "SearchRelevance_v4.0.ipynb",
      "provenance": []
    }
  },
  "nbformat": 4,
  "nbformat_minor": 5
}